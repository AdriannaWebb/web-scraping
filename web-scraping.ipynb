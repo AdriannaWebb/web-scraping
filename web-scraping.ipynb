{
 "cells": [
  {
   "cell_type": "markdown",
   "metadata": {},
   "source": [
    "# Web Mining and Applied NLP (44-620)\n",
    "\n",
    "## Web Scraping and NLP with Requests, BeautifulSoup, and spaCy\n",
    "\n",
    "### Student Name: Adrianna Webb\n",
    "\n",
    "[Git Repo](https://github.com/AdriannaWebb/web-scraping)\n",
    "\n",
    "Perform the tasks described in the Markdown cells below.  When you have completed the assignment make sure your code cells have all been run (and have output beneath them) and ensure you have committed and pushed ALL of your changes to your assignment repository.\n",
    "\n",
    "Every question that requires you to write code will have a code cell underneath it; you may either write your entire solution in that cell or write it in a python file (`.py`), then import and run the appropriate code to answer the question."
   ]
  },
  {
   "cell_type": "markdown",
   "metadata": {},
   "source": [
    "1. Write code that extracts the article html from https://web.archive.org/web/20210327165005/https://hackaday.com/2021/03/22/how-laser-headlights-work/ and dumps it to a .pkl (or other appropriate file)"
   ]
  },
  {
   "cell_type": "code",
   "execution_count": 4,
   "metadata": {},
   "outputs": [
    {
     "name": "stdout",
     "output_type": "stream",
     "text": [
      "HTML content successfully saved to article.pkl\n",
      "Content length: 335691 characters\n"
     ]
    }
   ],
   "source": [
    "import requests\n",
    "import pickle\n",
    "\n",
    "# URL \n",
    "url = \"https://web.archive.org/web/20210327165005/https://hackaday.com/2021/03/22/how-laser-headlights-work/\"\n",
    "\n",
    "# Make a request \n",
    "response = requests.get(url)\n",
    "\n",
    "# Check if the request was successful\n",
    "if response.status_code == 200:\n",
    "    html_content = response.text\n",
    "    \n",
    "    with open('article.pkl', 'wb') as f:\n",
    "        pickle.dump(html_content, f)\n",
    "    \n",
    "    print(\"HTML content successfully saved to article.pkl\")\n",
    "    print(f\"Content length: {len(html_content)} characters\")\n",
    "else:\n",
    "    print(f\"Failed to retrieve the webpage. Status code: {response.status_code}\")"
   ]
  },
  {
   "cell_type": "markdown",
   "metadata": {},
   "source": [
    "2. Read in your article's html source from the file you created in question 1 and print it's text (use `.get_text()`)"
   ]
  },
  {
   "cell_type": "code",
   "execution_count": 5,
   "metadata": {},
   "outputs": [
    {
     "name": "stdout",
     "output_type": "stream",
     "text": [
      "Article text extracted successfully!\n",
      "Text length: 65607 characters\n"
     ]
    }
   ],
   "source": [
    "import pickle\n",
    "from bs4 import BeautifulSoup\n",
    "\n",
    "# Read the HTML content from the pickle file\n",
    "with open('article.pkl', 'rb') as f:\n",
    "    html_content = pickle.load(f)\n",
    "\n",
    "# Parse the HTML with BeautifulSoup\n",
    "soup = BeautifulSoup(html_content, 'html.parser')\n",
    "\n",
    "# Extract and print the text content\n",
    "article_text = soup.get_text()\n",
    "\n",
    "print(\"Article text extracted successfully!\")\n",
    "print(f\"Text length: {len(article_text)} characters\")\n"
   ]
  },
  {
   "cell_type": "markdown",
   "metadata": {},
   "source": [
    "3. Load the article text into a trained `spaCy` pipeline, and determine the 5 most frequent tokens (converted to lower case).  Print the common tokens with an appropriate label.  Additionally, print the tokens their frequencies (with appropriate labels). Make sure to remove things we don't care about (punctuation, stopwords, whitespace)."
   ]
  },
  {
   "cell_type": "code",
   "execution_count": null,
   "metadata": {},
   "outputs": [
    {
     "name": "stdout",
     "output_type": "stream",
     "text": [
      "5 Most Frequent Tokens:\n",
      "------------------------------\n",
      "1. 'comment' - appears 136 times\n",
      "2. 'march' - appears 133 times\n",
      "3. '2021' - appears 133 times\n",
      "4. 'says' - appears 132 times\n",
      "5. 'report' - appears 130 times\n",
      "\n",
      "Total unique tokens analyzed: 2276\n",
      "Total tokens processed: 5888\n"
     ]
    }
   ],
   "source": [
    "import spacy\n",
    "from collections import Counter\n",
    "\n",
    "# Load the spaCy pipeline \n",
    "nlp = spacy.load(\"en_core_web_sm\")\n",
    "\n",
    "# Process the article text with spaCy\n",
    "doc = nlp(article_text)\n",
    "\n",
    "# Extract tokens, convert to lowercase and filter out unwanted items\n",
    "tokens = []\n",
    "for token in doc:\n",
    "    # Skip punctuation\n",
    "    if not token.is_punct and not token.is_stop and not token.is_space and token.text.strip():\n",
    "        tokens.append(token.text.lower())\n",
    "\n",
    "# Count token frequencies\n",
    "token_freq = Counter(tokens)\n",
    "\n",
    "# Get the 5 most common tokens\n",
    "most_common_tokens = token_freq.most_common(5)\n",
    "\n",
    "print(\"5 Most Frequent Tokens:\")\n",
    "print(\"-\" * 30)\n",
    "for i, (token, freq) in enumerate(most_common_tokens, 1):\n",
    "    print(f\"{i}. '{token}' - appears {freq} times\")\n",
    "\n",
    "print(f\"\\nTotal unique tokens analyzed: {len(token_freq)}\")\n",
    "print(f\"Total tokens processed: {len(tokens)}\")"
   ]
  },
  {
   "cell_type": "markdown",
   "metadata": {},
   "source": [
    "4. Load the article text into a trained `spaCy` pipeline, and determine the 5 most frequent lemmas (converted to lower case).  Print the common lemmas with an appropriate label.  Additionally, print the lemmas with their frequencies (with appropriate labels). Make sure to remove things we don't care about (punctuation, stopwords, whitespace)."
   ]
  },
  {
   "cell_type": "code",
   "execution_count": 8,
   "metadata": {},
   "outputs": [
    {
     "name": "stdout",
     "output_type": "stream",
     "text": [
      "5 Most Frequent Lemmas:\n",
      "------------------------------\n",
      "1. 'comment' - appears 157 times\n",
      "2. 'say' - appears 134 times\n",
      "3. 'march' - appears 133 times\n",
      "4. '2021' - appears 133 times\n",
      "5. 'report' - appears 130 times\n",
      "\n",
      "Total unique lemmas analyzed: 2008\n",
      "Total lemmas processed: 5888\n"
     ]
    }
   ],
   "source": [
    "# Extract lemmas, convert to lowercase, filter out unwanted items\n",
    "lemmas = []\n",
    "for token in doc:\n",
    "    # Skip punctuation, stopwords, and whitespace\n",
    "    if not token.is_punct and not token.is_stop and not token.is_space and token.text.strip():\n",
    "        lemmas.append(token.lemma_.lower())\n",
    "\n",
    "# Count lemma frequencies\n",
    "lemma_freq = Counter(lemmas)\n",
    "\n",
    "# Get the 5 most common lemmas\n",
    "most_common_lemmas = lemma_freq.most_common(5)\n",
    "\n",
    "print(\"5 Most Frequent Lemmas:\")\n",
    "print(\"-\" * 30)\n",
    "for i, (lemma, freq) in enumerate(most_common_lemmas, 1):\n",
    "    print(f\"{i}. '{lemma}' - appears {freq} times\")\n",
    "\n",
    "print(f\"\\nTotal unique lemmas analyzed: {len(lemma_freq)}\")\n",
    "print(f\"Total lemmas processed: {len(lemmas)}\")"
   ]
  },
  {
   "cell_type": "markdown",
   "metadata": {},
   "source": [
    "5. Define the following methods:\n",
    "    * `score_sentence_by_token(sentence, interesting_token)` that takes a sentence and a list of interesting token and returns the number of times that any of the interesting words appear in the sentence divided by the number of words in the sentence\n",
    "    * `score_sentence_by_lemma(sentence, interesting_lemmas)` that takes a sentence and a list of interesting lemmas and returns the number of times that any of the interesting lemmas appear in the sentence divided by the number of words in the sentence\n",
    "    \n",
    "You may find some of the code from the in class notes useful; feel free to use methods (rewrite them in this cell as well).  Test them by showing the score of the first sentence in your article using the frequent tokens and frequent lemmas identified in question 3."
   ]
  },
  {
   "cell_type": "code",
   "execution_count": 11,
   "metadata": {},
   "outputs": [
    {
     "name": "stdout",
     "output_type": "stream",
     "text": [
      "First meaningful sentence:\n",
      "'How Laser Headlights Work 130 Comments by: Lewin Day March 22, 2021 When we think about the onward march of automotive technology, headlights aren’t usually the first thing that come to mind.'\n",
      "\n",
      "Scoring Results:\n",
      "--------------------\n",
      "Score using tokens: 0.1500\n",
      "Score using lemmas: 0.2000\n",
      "\n",
      "Top 5 tokens used: ['comment', 'march', '2021', 'says', 'report']\n",
      "Top 5 lemmas used: ['comment', 'say', 'march', '2021', 'report']\n"
     ]
    }
   ],
   "source": [
    "def score_sentence_by_token(sentence, interesting_tokens):\n",
    "    \"\"\"\n",
    "    Calculate the score of a sentence based on interesting tokens.\n",
    "    Score = (number of interesting tokens in sentence) / (total words in sentence)\n",
    "    \"\"\"\n",
    "\n",
    "    doc_sent = nlp(sentence)\n",
    "    \n",
    "    # Get all tokens \n",
    "    sentence_tokens = []\n",
    "    for token in doc_sent:\n",
    "        if not token.is_punct and not token.is_stop and not token.is_space and token.text.strip():\n",
    "            sentence_tokens.append(token.text.lower())\n",
    "    \n",
    "    if len(sentence_tokens) == 0:\n",
    "        return 0.0\n",
    "    \n",
    "    # Count how many iteresting tokens appear in the sentence\n",
    "    interesting_count = sum(1 for token in sentence_tokens if token in interesting_tokens)\n",
    "    \n",
    "    return interesting_count / len(sentence_tokens)\n",
    "\n",
    "\n",
    "def score_sentence_by_lemma(sentence, interesting_lemmas):\n",
    "    \"\"\"\n",
    "    Calculate the score of a sentence based on interesting lemmas.\n",
    "    Score = (number of interesting lemmas in sentence) / (total words in sentence)\n",
    "    \"\"\"\n",
    "    # Process the sentence with spaCy\n",
    "    doc_sent = nlp(sentence)\n",
    "    \n",
    "    # Get all lemmas (excluding punctuation, stopwords, whitespace)\n",
    "    sentence_lemmas = []\n",
    "    for token in doc_sent:\n",
    "        if not token.is_punct and not token.is_stop and not token.is_space and token.text.strip():\n",
    "            sentence_lemmas.append(token.lemma_.lower())\n",
    "    \n",
    "    if len(sentence_lemmas) == 0:\n",
    "        return 0.0\n",
    "    \n",
    "    # Count how many interesting lemmas appear in the sentence\n",
    "    interesting_count = sum(1 for lemma in sentence_lemmas if lemma in interesting_lemmas)\n",
    "    \n",
    "    return interesting_count / len(sentence_lemmas)\n",
    "\n",
    "\n",
    "# Get better sentences by filtering out very short or weird ones\n",
    "sentences = []\n",
    "for sent in doc.sents:\n",
    "    clean_sent = sent.text.strip()\n",
    "    # Filter out sentences that are too short or contain mostly non-alphabetic characters\n",
    "    if len(clean_sent) > 20 and len([c for c in clean_sent if c.isalpha()]) > len(clean_sent) * 0.5:\n",
    "        sentences.append(clean_sent)\n",
    "\n",
    "# Find a good first sentence (skip navigation/header content)\n",
    "first_sentence = None\n",
    "for sent in sentences:\n",
    "    if len(sent.split()) > 5:  # At least 5 words\n",
    "        first_sentence = sent\n",
    "        break\n",
    "\n",
    "if first_sentence is None:\n",
    "    first_sentence = sentences[0] if sentences else \"No suitable sentence found\"\n",
    "\n",
    "# Get the top 5 tokens and lemmas as lists\n",
    "top_tokens = [token for token, freq in most_common_tokens]\n",
    "top_lemmas = [lemma for lemma, freq in most_common_lemmas]\n",
    "\n",
    "print(\"First meaningful sentence:\")\n",
    "print(f\"'{first_sentence}'\")\n",
    "print()\n",
    "\n",
    "# Test both scoring functions\n",
    "token_score = score_sentence_by_token(first_sentence, top_tokens)\n",
    "lemma_score = score_sentence_by_lemma(first_sentence, top_lemmas)\n",
    "\n",
    "print(\"Scoring Results:\")\n",
    "print(\"-\" * 20)\n",
    "print(f\"Score using tokens: {token_score:.4f}\")\n",
    "print(f\"Score using lemmas: {lemma_score:.4f}\")\n",
    "print()\n",
    "print(f\"Top 5 tokens used: {top_tokens}\")\n",
    "print(f\"Top 5 lemmas used: {top_lemmas}\")\n"
   ]
  },
  {
   "cell_type": "markdown",
   "metadata": {},
   "source": [
    "6. Make a list containing the scores (using tokens) of every sentence in the article, and plot a histogram with appropriate titles and axis labels of the scores. From your histogram, what seems to be the most common range of scores (put the answer in a comment after your code)?"
   ]
  },
  {
   "cell_type": "code",
   "execution_count": null,
   "metadata": {},
   "outputs": [
    {
     "data": {
      "image/png": "[encoded data removed]",
      "text/plain": [
       "<Figure size 1000x600 with 1 Axes>"
      ]
     },
     "metadata": {},
     "output_type": "display_data"
    },
    {
     "name": "stdout",
     "output_type": "stream",
     "text": [
      "Total sentences analyzed: 54\n"
     ]
    }
   ],
   "source": [
    "import matplotlib.pyplot as plt\n",
    "\n",
    "# Calculate scores for all sentences using tokens\n",
    "sentence_scores_tokens = []\n",
    "for sentence in sentences:\n",
    "    if len(sentence.strip()) > 5:  # Only score meaningful sentences\n",
    "        score = score_sentence_by_token(sentence, top_tokens)\n",
    "        sentence_scores_tokens.append(score)\n",
    "\n",
    "# Create histogram\n",
    "plt.figure(figsize=(10, 6))\n",
    "plt.hist(sentence_scores_tokens, bins=20, edgecolor='black', alpha=0.7)\n",
    "plt.title('Distribution of Sentence Scores Using Tokens')\n",
    "plt.xlabel('Sentence Score (Token-based)')\n",
    "plt.ylabel('Number of Sentences')\n",
    "plt.show()\n",
    "\n",
    "print(f\"Total sentences analyzed: {len(sentence_scores_tokens)}\")\n",
    "\n",
    "# From the histogram, the most common range of scores appears to be 0.0-0.1, meaning that most sentences contain few or none of the most frequent tokens."
   ]
  },
  {
   "cell_type": "markdown",
   "metadata": {},
   "source": [
    "7. Make a list containing the scores (using lemmas) of every sentence in the article, and plot a histogram with appropriate titles and axis labels of the scores.  From your histogram, what seems to be the most common range of scores (put the answer in a comment after your code)?"
   ]
  },
  {
   "cell_type": "code",
   "execution_count": 14,
   "metadata": {},
   "outputs": [
    {
     "data": {
      "image/png": "[encoded data removed]",
      "text/plain": [
       "<Figure size 1000x600 with 1 Axes>"
      ]
     },
     "metadata": {},
     "output_type": "display_data"
    },
    {
     "name": "stdout",
     "output_type": "stream",
     "text": [
      "Total sentences analyzed: 54\n"
     ]
    }
   ],
   "source": [
    "# Calculate scores for all sentences using lemmas\n",
    "sentence_scores_lemmas = []\n",
    "for sentence in sentences:\n",
    "    if len(sentence.strip()) > 5:  # Only score meaningful sentences\n",
    "        score = score_sentence_by_lemma(sentence, top_lemmas)\n",
    "        sentence_scores_lemmas.append(score)\n",
    "\n",
    "# Create histogram\n",
    "plt.figure(figsize=(10, 6))\n",
    "plt.hist(sentence_scores_lemmas, bins=20, edgecolor='black', alpha=0.7)\n",
    "plt.title('Distribution of Sentence Scores Using Lemmas')\n",
    "plt.xlabel('Sentence Score (Lemma-based)')\n",
    "plt.ylabel('Number of Sentences')\n",
    "plt.show()\n",
    "\n",
    "print(f\"Total sentences analyzed: {len(sentence_scores_lemmas)}\")\n",
    "\n",
    "# From the histogram, the most common range of scores appears to be 0.000-0.025"
   ]
  },
  {
   "cell_type": "markdown",
   "metadata": {},
   "source": [
    "8. Which tokens and lexems would be ommitted from the lists generated in questions 3 and 4 if we only wanted to consider nouns as interesting words?  How might we change the code to only consider nouns? Put your answer in this Markdown cell (you can edit it by double clicking it).\n",
    "\n",
    "We could want to omit 'says' and '2021' from both tokens and lexems. To do that we could use spaCy's `.pos_` attribute. "
   ]
  }
 ],
 "metadata": {
  "kernelspec": {
   "display_name": ".venv",
   "language": "python",
   "name": "python3"
  },
  "language_info": {
   "codemirror_mode": {
    "name": "ipython",
    "version": 3
   },
   "file_extension": ".py",
   "mimetype": "text/x-python",
   "name": "python",
   "nbconvert_exporter": "python",
   "pygments_lexer": "ipython3",
   "version": "3.12.5"
  }
 },
 "nbformat": 4,
 "nbformat_minor": 4
}
